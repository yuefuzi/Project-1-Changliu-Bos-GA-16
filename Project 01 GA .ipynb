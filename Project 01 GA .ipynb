{
 "cells": [
  {
   "cell_type": "markdown",
   "metadata": {
    "collapsed": true
   },
   "source": [
    "##  Project Description\n",
    "Our goal here is to use university admission data to determine various factors that influence graduate school admission."
   ]
  },
  {
   "cell_type": "markdown",
   "metadata": {},
   "source": [
    "outcome variable: \n",
    "* a binary variable that indicates whether a candidate was admitted\n",
    "\n",
    "predictor/covariate variables include:\n",
    "* applicant's GPA \n",
    "* applicant's GRE score \n",
    "* Rank of prestige of applicant's undergruaduate alma mater"
   ]
  },
  {
   "cell_type": "markdown",
   "metadata": {},
   "source": [
    "## Data Dictionary"
   ]
  },
  {
   "cell_type": "markdown",
   "metadata": {},
   "source": [
    "\n",
    "**Variable Name** | **Type** | **Description**  \n",
    "---|---|---\n",
    "**admit**|int|Admit(1) or Not(0)\n",
    "**gre**|int|GRE score on 800 scale\n",
    "**GPA**|int|GPA on 4.0 scale\n",
    "**Prestige**|int|prestige of the student's undergraduate alma mater, with 1 being the best and 4 being the worst\n"
   ]
  },
  {
   "cell_type": "markdown",
   "metadata": {},
   "source": [
    "## Problem Statement\n",
    "Using a classic dataset from UCLA's Logistic Regression in R tutorial, we are going to determine how applicants' GRE score, GPA and Rank of prestige of undergraduate institution affect their admission to graduate school. Also, we are interested in average GPA, average GRE scores and admission rate in each prestige catagory."
   ]
  },
  {
   "cell_type": "markdown",
   "metadata": {},
   "source": [
    "## Load the Data into Pandas DataFrame"
   ]
  },
  {
   "cell_type": "code",
<<<<<<< HEAD
   "execution_count": 1,
=======
   "execution_count": 2,
>>>>>>> 347754165f10d4de0b1aacc9db3866474b12d6f6
   "metadata": {
    "collapsed": true
   },
   "outputs": [],
   "source": [
    "import pandas as pd"
   ]
  },
  {
   "cell_type": "code",
<<<<<<< HEAD
   "execution_count": 2,
=======
   "execution_count": 3,
>>>>>>> 347754165f10d4de0b1aacc9db3866474b12d6f6
   "metadata": {
    "collapsed": true
   },
   "outputs": [],
   "source": [
    "import numpy as np"
   ]
  },
  {
   "cell_type": "code",
<<<<<<< HEAD
   "execution_count": 3,
=======
   "execution_count": 4,
>>>>>>> 347754165f10d4de0b1aacc9db3866474b12d6f6
   "metadata": {
    "collapsed": true
   },
   "outputs": [],
   "source": [
    "import matplotlib.pyplot as plt"
   ]
  },
  {
   "cell_type": "code",
<<<<<<< HEAD
   "execution_count": 4,
=======
   "execution_count": 5,
>>>>>>> 347754165f10d4de0b1aacc9db3866474b12d6f6
   "metadata": {
    "collapsed": true
   },
   "outputs": [],
   "source": [
    "%matplotlib inline"
   ]
  },
  {
   "cell_type": "code",
<<<<<<< HEAD
   "execution_count": 5,
=======
   "execution_count": 6,
>>>>>>> 347754165f10d4de0b1aacc9db3866474b12d6f6
   "metadata": {
    "collapsed": false
   },
   "outputs": [],
   "source": [
    "df = pd.read_csv('/Users/Chang/Desktop/data_science/admissions.csv')"
   ]
  },
  {
   "cell_type": "markdown",
   "metadata": {},
   "source": [
    "## Check the Data"
   ]
  },
  {
   "cell_type": "code",
<<<<<<< HEAD
   "execution_count": 6,
=======
   "execution_count": 9,
>>>>>>> 347754165f10d4de0b1aacc9db3866474b12d6f6
   "metadata": {
    "collapsed": false
   },
   "outputs": [
    {
     "data": {
      "text/html": [
       "<div>\n",
       "<table border=\"1\" class=\"dataframe\">\n",
       "  <thead>\n",
       "    <tr style=\"text-align: right;\">\n",
       "      <th></th>\n",
       "      <th>admit</th>\n",
       "      <th>gre</th>\n",
       "      <th>gpa</th>\n",
       "      <th>prestige</th>\n",
       "    </tr>\n",
       "  </thead>\n",
       "  <tbody>\n",
       "    <tr>\n",
       "      <th>0</th>\n",
       "      <td>0</td>\n",
       "      <td>380.0</td>\n",
       "      <td>3.61</td>\n",
       "      <td>3.0</td>\n",
       "    </tr>\n",
       "    <tr>\n",
       "      <th>1</th>\n",
       "      <td>1</td>\n",
       "      <td>660.0</td>\n",
       "      <td>3.67</td>\n",
       "      <td>3.0</td>\n",
       "    </tr>\n",
       "    <tr>\n",
       "      <th>2</th>\n",
       "      <td>1</td>\n",
       "      <td>800.0</td>\n",
       "      <td>4.00</td>\n",
       "      <td>1.0</td>\n",
       "    </tr>\n",
       "    <tr>\n",
       "      <th>3</th>\n",
       "      <td>1</td>\n",
       "      <td>640.0</td>\n",
       "      <td>3.19</td>\n",
       "      <td>4.0</td>\n",
       "    </tr>\n",
       "    <tr>\n",
       "      <th>4</th>\n",
       "      <td>0</td>\n",
       "      <td>520.0</td>\n",
       "      <td>2.93</td>\n",
       "      <td>4.0</td>\n",
       "    </tr>\n",
       "  </tbody>\n",
       "</table>\n",
       "</div>"
      ],
      "text/plain": [
       "   admit    gre   gpa  prestige\n",
       "0      0  380.0  3.61       3.0\n",
       "1      1  660.0  3.67       3.0\n",
       "2      1  800.0  4.00       1.0\n",
       "3      1  640.0  3.19       4.0\n",
       "4      0  520.0  2.93       4.0"
      ]
     },
<<<<<<< HEAD
     "execution_count": 6,
=======
     "execution_count": 9,
>>>>>>> 347754165f10d4de0b1aacc9db3866474b12d6f6
     "metadata": {},
     "output_type": "execute_result"
    }
   ],
   "source": [
    "df.head()"
   ]
  },
  {
   "cell_type": "code",
   "execution_count": 10,
   "metadata": {
    "collapsed": false
   },
   "outputs": [
    {
     "data": {
      "text/html": [
       "<div>\n",
       "<table border=\"1\" class=\"dataframe\">\n",
       "  <thead>\n",
       "    <tr style=\"text-align: right;\">\n",
       "      <th></th>\n",
       "      <th>admit</th>\n",
       "      <th>gre</th>\n",
       "      <th>gpa</th>\n",
       "      <th>prestige</th>\n",
       "    </tr>\n",
       "  </thead>\n",
       "  <tbody>\n",
       "    <tr>\n",
       "      <th>395</th>\n",
       "      <td>0</td>\n",
       "      <td>620.0</td>\n",
       "      <td>4.00</td>\n",
       "      <td>2.0</td>\n",
       "    </tr>\n",
       "    <tr>\n",
       "      <th>396</th>\n",
       "      <td>0</td>\n",
       "      <td>560.0</td>\n",
       "      <td>3.04</td>\n",
       "      <td>3.0</td>\n",
       "    </tr>\n",
       "    <tr>\n",
       "      <th>397</th>\n",
       "      <td>0</td>\n",
       "      <td>460.0</td>\n",
       "      <td>2.63</td>\n",
       "      <td>2.0</td>\n",
       "    </tr>\n",
       "    <tr>\n",
       "      <th>398</th>\n",
       "      <td>0</td>\n",
       "      <td>700.0</td>\n",
       "      <td>3.65</td>\n",
       "      <td>2.0</td>\n",
       "    </tr>\n",
       "    <tr>\n",
       "      <th>399</th>\n",
       "      <td>0</td>\n",
       "      <td>600.0</td>\n",
       "      <td>3.89</td>\n",
       "      <td>3.0</td>\n",
       "    </tr>\n",
       "  </tbody>\n",
       "</table>\n",
       "</div>"
      ],
      "text/plain": [
       "     admit    gre   gpa  prestige\n",
       "395      0  620.0  4.00       2.0\n",
       "396      0  560.0  3.04       3.0\n",
       "397      0  460.0  2.63       2.0\n",
       "398      0  700.0  3.65       2.0\n",
       "399      0  600.0  3.89       3.0"
      ]
     },
     "execution_count": 10,
     "metadata": {},
     "output_type": "execute_result"
    }
   ],
   "source": [
    "df.tail()"
   ]
  },
  {
   "cell_type": "markdown",
   "metadata": {},
   "source": [
    "We can overview the data by \"describe\" method. We know there are in total 400 students on file. we also get the average of each variable and the standard deviation of the variables."
   ]
  },
  {
   "cell_type": "code",
   "execution_count": 7,
   "metadata": {
    "collapsed": false
   },
   "outputs": [
    {
     "name": "stderr",
     "output_type": "stream",
     "text": [
      "//anaconda/envs/gads/lib/python3.5/site-packages/numpy/lib/function_base.py:3823: RuntimeWarning: Invalid value encountered in percentile\n",
      "  RuntimeWarning)\n"
     ]
    },
    {
     "data": {
      "text/html": [
       "<div>\n",
       "<table border=\"1\" class=\"dataframe\">\n",
       "  <thead>\n",
       "    <tr style=\"text-align: right;\">\n",
       "      <th></th>\n",
       "      <th>admit</th>\n",
       "      <th>gre</th>\n",
       "      <th>gpa</th>\n",
       "      <th>prestige</th>\n",
       "    </tr>\n",
       "  </thead>\n",
       "  <tbody>\n",
       "    <tr>\n",
       "      <th>count</th>\n",
       "      <td>400.000000</td>\n",
       "      <td>398.000000</td>\n",
       "      <td>398.00000</td>\n",
       "      <td>399.000000</td>\n",
       "    </tr>\n",
       "    <tr>\n",
       "      <th>mean</th>\n",
       "      <td>0.317500</td>\n",
       "      <td>588.040201</td>\n",
       "      <td>3.39093</td>\n",
       "      <td>2.486216</td>\n",
       "    </tr>\n",
       "    <tr>\n",
       "      <th>std</th>\n",
       "      <td>0.466087</td>\n",
       "      <td>115.628513</td>\n",
       "      <td>0.38063</td>\n",
       "      <td>0.945333</td>\n",
       "    </tr>\n",
       "    <tr>\n",
       "      <th>min</th>\n",
       "      <td>0.000000</td>\n",
       "      <td>220.000000</td>\n",
       "      <td>2.26000</td>\n",
       "      <td>1.000000</td>\n",
       "    </tr>\n",
       "    <tr>\n",
       "      <th>25%</th>\n",
       "      <td>0.000000</td>\n",
       "      <td>NaN</td>\n",
       "      <td>NaN</td>\n",
       "      <td>NaN</td>\n",
       "    </tr>\n",
       "    <tr>\n",
       "      <th>50%</th>\n",
       "      <td>0.000000</td>\n",
       "      <td>NaN</td>\n",
       "      <td>NaN</td>\n",
       "      <td>NaN</td>\n",
       "    </tr>\n",
       "    <tr>\n",
       "      <th>75%</th>\n",
       "      <td>1.000000</td>\n",
       "      <td>NaN</td>\n",
       "      <td>NaN</td>\n",
       "      <td>NaN</td>\n",
       "    </tr>\n",
       "    <tr>\n",
       "      <th>max</th>\n",
       "      <td>1.000000</td>\n",
       "      <td>800.000000</td>\n",
       "      <td>4.00000</td>\n",
       "      <td>4.000000</td>\n",
       "    </tr>\n",
       "  </tbody>\n",
       "</table>\n",
       "</div>"
      ],
      "text/plain": [
       "            admit         gre        gpa    prestige\n",
       "count  400.000000  398.000000  398.00000  399.000000\n",
       "mean     0.317500  588.040201    3.39093    2.486216\n",
       "std      0.466087  115.628513    0.38063    0.945333\n",
       "min      0.000000  220.000000    2.26000    1.000000\n",
       "25%      0.000000         NaN        NaN         NaN\n",
       "50%      0.000000         NaN        NaN         NaN\n",
       "75%      1.000000         NaN        NaN         NaN\n",
       "max      1.000000  800.000000    4.00000    4.000000"
      ]
     },
     "execution_count": 7,
     "metadata": {},
     "output_type": "execute_result"
    }
   ],
   "source": [
    "df.describe()"
   ]
  },
  {
   "cell_type": "code",
<<<<<<< HEAD
   "execution_count": 7,
=======
   "execution_count": 8,
>>>>>>> 347754165f10d4de0b1aacc9db3866474b12d6f6
   "metadata": {
    "collapsed": true
   },
   "outputs": [],
   "source": [
    "df= df.dropna()"
   ]
  },
  {
   "cell_type": "code",
<<<<<<< HEAD
   "execution_count": 8,
=======
   "execution_count": 9,
>>>>>>> 347754165f10d4de0b1aacc9db3866474b12d6f6
   "metadata": {
    "collapsed": false
   },
   "outputs": [
    {
     "data": {
      "text/plain": [
       "(397, 4)"
      ]
     },
<<<<<<< HEAD
     "execution_count": 8,
=======
     "execution_count": 9,
>>>>>>> 347754165f10d4de0b1aacc9db3866474b12d6f6
     "metadata": {},
     "output_type": "execute_result"
    }
   ],
   "source": [
    "df.shape"
   ]
  },
  {
   "cell_type": "markdown",
   "metadata": {},
   "source": [
    "## Data Analysis"
   ]
  },
  {
   "cell_type": "markdown",
   "metadata": {},
   "source": [
    "### 1. we can explore the overall data by histograms."
   ]
  },
  {
   "cell_type": "code",
<<<<<<< HEAD
   "execution_count": 9,
=======
   "execution_count": 10,
>>>>>>> 347754165f10d4de0b1aacc9db3866474b12d6f6
   "metadata": {
    "collapsed": false
   },
   "outputs": [
    {
     "data": {
      "text/plain": [
<<<<<<< HEAD
       "array([[<matplotlib.axes._subplots.AxesSubplot object at 0x110427c50>,\n",
       "        <matplotlib.axes._subplots.AxesSubplot object at 0x10ccbe9e8>],\n",
       "       [<matplotlib.axes._subplots.AxesSubplot object at 0x11047c6d8>,\n",
       "        <matplotlib.axes._subplots.AxesSubplot object at 0x10cd44cc0>]], dtype=object)"
      ]
     },
     "execution_count": 9,
=======
       "array([[<matplotlib.axes._subplots.AxesSubplot object at 0x1103290b8>,\n",
       "        <matplotlib.axes._subplots.AxesSubplot object at 0x10cabb6a0>],\n",
       "       [<matplotlib.axes._subplots.AxesSubplot object at 0x10caf4ac8>,\n",
       "        <matplotlib.axes._subplots.AxesSubplot object at 0x10cb3fc18>]], dtype=object)"
      ]
     },
     "execution_count": 10,
>>>>>>> 347754165f10d4de0b1aacc9db3866474b12d6f6
     "metadata": {},
     "output_type": "execute_result"
    },
    {
     "data": {
      "image/png": "iVBORw0KGgoAAAANSUhEUgAAAXwAAAEKCAYAAAARnO4WAAAABHNCSVQICAgIfAhkiAAAAAlwSFlz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\nrkJggg==\n",
      "text/plain": [
<<<<<<< HEAD
       "<matplotlib.figure.Figure at 0x10cc2efd0>"
=======
       "<matplotlib.figure.Figure at 0x110230630>"
>>>>>>> 347754165f10d4de0b1aacc9db3866474b12d6f6
      ]
     },
     "metadata": {},
     "output_type": "display_data"
    }
   ],
   "source": [
    "df.hist()"
   ]
  },
  {
   "cell_type": "markdown",
   "metadata": {},
   "source": [
    "For a closer look at the data, we use stacked histograms to investigate how the relative ratio of \"admit\" to \"not admit\" will change along with the change of each independent variable."
   ]
  },
  {
   "cell_type": "markdown",
   "metadata": {},
   "source": [
    "From the stacked histogram of applicants' gre score, we confirm that the chance of admission significantly increase as an applicant's GRE score increases. It's the same case as we go through the GPA and prestige rank of an applicant, which means \"better record\" does imply better chance of admission!"
   ]
  },
  {
   "cell_type": "code",
<<<<<<< HEAD
   "execution_count": 10,
=======
   "execution_count": 46,
>>>>>>> 347754165f10d4de0b1aacc9db3866474b12d6f6
   "metadata": {
    "collapsed": false
   },
   "outputs": [
    {
     "data": {
      "image/png": "iVBORw0KGgoAAAANSUhEUgAAAYYAAAEPCAYAAABGP2P1AAAABHNCSVQICAgIfAhkiAAAAAlwSFlz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\ng5mZZTgwmJlZxv8HzuNuxFLpq6YAAAAASUVORK5CYII=\n",
      "text/plain": [
<<<<<<< HEAD
       "<matplotlib.figure.Figure at 0x11288c9e8>"
=======
       "<matplotlib.figure.Figure at 0x113431828>"
>>>>>>> 347754165f10d4de0b1aacc9db3866474b12d6f6
      ]
     },
     "metadata": {},
     "output_type": "display_data"
    }
   ],
   "source": [
    "con = (df.admit == 1)\n",
    "bins = np.linspace(200,800,16)\n",
    "L1 = df[con].gre\n",
    "L2 = df[~con].gre\n",
    "plt.hist([L1,L2],bins,label=(\"admit\",\"not admit\"),stacked=True)\n",
    "plt.legend(loc='upper left')\n",
    "plt.xlabel('Applicants\\' GRE score')\n",
    "plt.ylabel('Count')\n",
    "plt.show()"
   ]
  },
  {
   "cell_type": "code",
<<<<<<< HEAD
   "execution_count": 11,
=======
   "execution_count": 47,
>>>>>>> 347754165f10d4de0b1aacc9db3866474b12d6f6
   "metadata": {
    "collapsed": false
   },
   "outputs": [
    {
     "data": {
      "image/png": "iVBORw0KGgoAAAANSUhEUgAAAYQAAAEPCAYAAABCyrPIAAAABHNCSVQICAgIfAhkiAAAAAlwSFlz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\n",
      "text/plain": [
<<<<<<< HEAD
       "<matplotlib.figure.Figure at 0x112ed0a58>"
=======
       "<matplotlib.figure.Figure at 0x1145ee780>"
>>>>>>> 347754165f10d4de0b1aacc9db3866474b12d6f6
      ]
     },
     "metadata": {},
     "output_type": "display_data"
    }
   ],
   "source": [
    "con = (df.admit == 1)\n",
    "bins = np.linspace(2,4,11)\n",
    "L1 = df[con].gpa\n",
    "L2 = df[~con].gpa\n",
    "plt.hist([L1,L2],bins,label=(\"admit\",\"not admit\"),color=(\"g\",\"r\"),stacked=True)\n",
    "plt.legend(loc='upper left')\n",
    "plt.xlabel('Applicants\\' GPA')\n",
    "plt.ylabel('Count')\n",
    "plt.show()"
   ]
  },
  {
   "cell_type": "code",
<<<<<<< HEAD
   "execution_count": 12,
=======
   "execution_count": 48,
>>>>>>> 347754165f10d4de0b1aacc9db3866474b12d6f6
   "metadata": {
    "collapsed": false
   },
   "outputs": [
    {
     "data": {
      "image/png": "iVBORw0KGgoAAAANSUhEUgAAAYsAAAEPCAYAAACzwehFAAAABHNCSVQICAgIfAhkiAAAAAlwSFlz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\nByhyQZTb0gw9AAAAAElEQVQ1rwYeAAAAAElFTkSuQmCC\n",
      "text/plain": [
<<<<<<< HEAD
       "<matplotlib.figure.Figure at 0x11310af98>"
=======
       "<matplotlib.figure.Figure at 0x1145ddcf8>"
>>>>>>> 347754165f10d4de0b1aacc9db3866474b12d6f6
      ]
     },
     "metadata": {},
     "output_type": "display_data"
    }
   ],
   "source": [
    "con = (df.admit == 1)\n",
    "L1 = df[con].prestige\n",
    "L2 = df[~con].prestige\n",
    "plt.hist([L1,L2],bins=4,label=(\"admit\",\"not admit\"),stacked=True)\n",
    "plt.legend(loc='upper right')\n",
    "plt.xlabel('Applicants\\' Prestige Rank')\n",
    "plt.ylabel('Count')\n",
    "plt.show()"
   ]
  },
  {
   "cell_type": "markdown",
   "metadata": {},
   "source": [
    "### 2.we are going to explore the data by each prestige catagory."
   ]
  },
  {
   "cell_type": "markdown",
   "metadata": {},
   "source": [
    "In prestige catagory 1, the average GRE score is 636, average GPA is 3.54, admission rate is 33/(33 + 28)=54.1%"
   ]
  },
  {
   "cell_type": "code",
<<<<<<< HEAD
   "execution_count": 13,
=======
   "execution_count": 14,
>>>>>>> 347754165f10d4de0b1aacc9db3866474b12d6f6
   "metadata": {
    "collapsed": false
   },
   "outputs": [
    {
     "data": {
      "text/html": [
       "<div>\n",
       "<table border=\"1\" class=\"dataframe\">\n",
       "  <thead>\n",
       "    <tr style=\"text-align: right;\">\n",
       "      <th></th>\n",
       "      <th>admit</th>\n",
       "      <th>gre</th>\n",
       "      <th>gpa</th>\n",
       "      <th>prestige</th>\n",
       "    </tr>\n",
       "  </thead>\n",
       "  <tbody>\n",
       "    <tr>\n",
       "      <th>count</th>\n",
       "      <td>33.0</td>\n",
       "      <td>33.000000</td>\n",
       "      <td>33.000000</td>\n",
       "      <td>33.0</td>\n",
       "    </tr>\n",
       "    <tr>\n",
       "      <th>mean</th>\n",
       "      <td>1.0</td>\n",
       "      <td>636.363636</td>\n",
       "      <td>3.544242</td>\n",
       "      <td>1.0</td>\n",
       "    </tr>\n",
       "    <tr>\n",
       "      <th>std</th>\n",
       "      <td>0.0</td>\n",
       "      <td>110.618098</td>\n",
       "      <td>0.385511</td>\n",
       "      <td>0.0</td>\n",
       "    </tr>\n",
       "    <tr>\n",
       "      <th>min</th>\n",
       "      <td>1.0</td>\n",
       "      <td>460.000000</td>\n",
       "      <td>2.420000</td>\n",
       "      <td>1.0</td>\n",
       "    </tr>\n",
       "    <tr>\n",
       "      <th>25%</th>\n",
       "      <td>1.0</td>\n",
       "      <td>540.000000</td>\n",
       "      <td>3.370000</td>\n",
       "      <td>1.0</td>\n",
       "    </tr>\n",
       "    <tr>\n",
       "      <th>50%</th>\n",
       "      <td>1.0</td>\n",
       "      <td>620.000000</td>\n",
       "      <td>3.610000</td>\n",
       "      <td>1.0</td>\n",
       "    </tr>\n",
       "    <tr>\n",
       "      <th>75%</th>\n",
       "      <td>1.0</td>\n",
       "      <td>720.000000</td>\n",
       "      <td>3.810000</td>\n",
       "      <td>1.0</td>\n",
       "    </tr>\n",
       "    <tr>\n",
       "      <th>max</th>\n",
       "      <td>1.0</td>\n",
       "      <td>800.000000</td>\n",
       "      <td>4.000000</td>\n",
       "      <td>1.0</td>\n",
       "    </tr>\n",
       "  </tbody>\n",
       "</table>\n",
       "</div>"
      ],
      "text/plain": [
       "       admit         gre        gpa  prestige\n",
       "count   33.0   33.000000  33.000000      33.0\n",
       "mean     1.0  636.363636   3.544242       1.0\n",
       "std      0.0  110.618098   0.385511       0.0\n",
       "min      1.0  460.000000   2.420000       1.0\n",
       "25%      1.0  540.000000   3.370000       1.0\n",
       "50%      1.0  620.000000   3.610000       1.0\n",
       "75%      1.0  720.000000   3.810000       1.0\n",
       "max      1.0  800.000000   4.000000       1.0"
      ]
     },
<<<<<<< HEAD
     "execution_count": 13,
=======
     "execution_count": 14,
>>>>>>> 347754165f10d4de0b1aacc9db3866474b12d6f6
     "metadata": {},
     "output_type": "execute_result"
    }
   ],
   "source": [
    "con = (df.admit == 1) & (df.prestige == 1)\n",
    "sub1 = df[con]\n",
    "sub1.describe()"
   ]
  },
  {
   "cell_type": "code",
<<<<<<< HEAD
   "execution_count": 14,
=======
   "execution_count": 15,
>>>>>>> 347754165f10d4de0b1aacc9db3866474b12d6f6
   "metadata": {
    "collapsed": false
   },
   "outputs": [
    {
     "data": {
      "text/plain": [
       "1    33\n",
       "0    28\n",
       "Name: admit, dtype: int64"
      ]
     },
<<<<<<< HEAD
     "execution_count": 14,
=======
     "execution_count": 15,
>>>>>>> 347754165f10d4de0b1aacc9db3866474b12d6f6
     "metadata": {},
     "output_type": "execute_result"
    }
   ],
   "source": [
    "df[df.prestige == 1].admit.value_counts()"
   ]
  },
  {
   "cell_type": "markdown",
   "metadata": {},
   "source": [
    "In prestige catagory 2, the average GRE score is 612, average GPA is 3.44, admission rate is 53/(97 + 53)=35.3%\n",
    "As we can see, applicants in prestige rank 2 has a siginificant lower rate of admission than students in prestige rank 1."
   ]
  },
  {
   "cell_type": "code",
<<<<<<< HEAD
   "execution_count": 15,
=======
   "execution_count": 8,
>>>>>>> 347754165f10d4de0b1aacc9db3866474b12d6f6
   "metadata": {
    "collapsed": false
   },
   "outputs": [
    {
     "data": {
      "text/html": [
       "<div>\n",
       "<table border=\"1\" class=\"dataframe\">\n",
       "  <thead>\n",
       "    <tr style=\"text-align: right;\">\n",
       "      <th></th>\n",
       "      <th>admit</th>\n",
       "      <th>gre</th>\n",
       "      <th>gpa</th>\n",
       "      <th>prestige</th>\n",
       "    </tr>\n",
       "  </thead>\n",
       "  <tbody>\n",
       "    <tr>\n",
       "      <th>count</th>\n",
       "      <td>53.0</td>\n",
       "      <td>53.000000</td>\n",
       "      <td>53.000000</td>\n",
       "      <td>53.0</td>\n",
       "    </tr>\n",
       "    <tr>\n",
       "      <th>mean</th>\n",
       "      <td>1.0</td>\n",
       "      <td>612.075472</td>\n",
       "      <td>3.441698</td>\n",
       "      <td>2.0</td>\n",
       "    </tr>\n",
       "    <tr>\n",
       "      <th>std</th>\n",
       "      <td>0.0</td>\n",
       "      <td>113.635018</td>\n",
       "      <td>0.365054</td>\n",
       "      <td>0.0</td>\n",
       "    </tr>\n",
       "    <tr>\n",
       "      <th>min</th>\n",
       "      <td>1.0</td>\n",
       "      <td>300.000000</td>\n",
       "      <td>2.620000</td>\n",
       "      <td>2.0</td>\n",
       "    </tr>\n",
       "    <tr>\n",
       "      <th>25%</th>\n",
       "      <td>1.0</td>\n",
       "      <td>540.000000</td>\n",
       "      <td>3.170000</td>\n",
       "      <td>2.0</td>\n",
       "    </tr>\n",
       "    <tr>\n",
       "      <th>50%</th>\n",
       "      <td>1.0</td>\n",
       "      <td>620.000000</td>\n",
       "      <td>3.450000</td>\n",
       "      <td>2.0</td>\n",
       "    </tr>\n",
       "    <tr>\n",
       "      <th>75%</th>\n",
       "      <td>1.0</td>\n",
       "      <td>680.000000</td>\n",
       "      <td>3.750000</td>\n",
       "      <td>2.0</td>\n",
       "    </tr>\n",
       "    <tr>\n",
       "      <th>max</th>\n",
       "      <td>1.0</td>\n",
       "      <td>800.000000</td>\n",
       "      <td>4.000000</td>\n",
       "      <td>2.0</td>\n",
       "    </tr>\n",
       "  </tbody>\n",
       "</table>\n",
       "</div>"
      ],
      "text/plain": [
       "       admit         gre        gpa  prestige\n",
       "count   53.0   53.000000  53.000000      53.0\n",
       "mean     1.0  612.075472   3.441698       2.0\n",
       "std      0.0  113.635018   0.365054       0.0\n",
       "min      1.0  300.000000   2.620000       2.0\n",
       "25%      1.0  540.000000   3.170000       2.0\n",
       "50%      1.0  620.000000   3.450000       2.0\n",
       "75%      1.0  680.000000   3.750000       2.0\n",
       "max      1.0  800.000000   4.000000       2.0"
      ]
     },
<<<<<<< HEAD
     "execution_count": 15,
=======
     "execution_count": 8,
>>>>>>> 347754165f10d4de0b1aacc9db3866474b12d6f6
     "metadata": {},
     "output_type": "execute_result"
    }
   ],
   "source": [
    "con = (df.admit == 1) & (df.prestige == 2)\n",
    "sub1 = df[con]\n",
    "sub1.describe()"
   ]
  },
  {
   "cell_type": "code",
   "execution_count": 16,
   "metadata": {
    "collapsed": false
   },
   "outputs": [
    {
     "data": {
      "text/plain": [
<<<<<<< HEAD
       "0    95\n",
=======
       "0    97\n",
>>>>>>> 347754165f10d4de0b1aacc9db3866474b12d6f6
       "1    53\n",
       "Name: admit, dtype: int64"
      ]
     },
     "execution_count": 16,
     "metadata": {},
     "output_type": "execute_result"
    }
   ],
   "source": [
    "df[df.prestige == 2].admit.value_counts()"
   ]
  },
  {
   "cell_type": "markdown",
   "metadata": {},
   "source": [
    "In prestige catagory 3, the average GRE score is 616, average GPA is 3.53, admission rate is 28/(93 + 28)=23.1%"
   ]
  },
  {
   "cell_type": "code",
<<<<<<< HEAD
   "execution_count": 17,
=======
   "execution_count": 9,
>>>>>>> 347754165f10d4de0b1aacc9db3866474b12d6f6
   "metadata": {
    "collapsed": false
   },
   "outputs": [
    {
     "data": {
      "text/html": [
       "<div>\n",
       "<table border=\"1\" class=\"dataframe\">\n",
       "  <thead>\n",
       "    <tr style=\"text-align: right;\">\n",
       "      <th></th>\n",
       "      <th>admit</th>\n",
       "      <th>gre</th>\n",
       "      <th>gpa</th>\n",
       "      <th>prestige</th>\n",
       "    </tr>\n",
       "  </thead>\n",
       "  <tbody>\n",
       "    <tr>\n",
       "      <th>count</th>\n",
       "      <td>28.0</td>\n",
       "      <td>28.000000</td>\n",
       "      <td>28.000000</td>\n",
       "      <td>28.0</td>\n",
       "    </tr>\n",
       "    <tr>\n",
       "      <th>mean</th>\n",
       "      <td>1.0</td>\n",
       "      <td>616.428571</td>\n",
       "      <td>3.534643</td>\n",
       "      <td>3.0</td>\n",
       "    </tr>\n",
       "    <tr>\n",
       "      <th>std</th>\n",
       "      <td>0.0</td>\n",
       "      <td>99.785484</td>\n",
       "      <td>0.399244</td>\n",
       "      <td>0.0</td>\n",
       "    </tr>\n",
       "    <tr>\n",
       "      <th>min</th>\n",
       "      <td>1.0</td>\n",
       "      <td>460.000000</td>\n",
       "      <td>2.650000</td>\n",
       "      <td>3.0</td>\n",
       "    </tr>\n",
       "    <tr>\n",
       "      <th>25%</th>\n",
       "      <td>1.0</td>\n",
       "      <td>535.000000</td>\n",
       "      <td>3.342500</td>\n",
       "      <td>3.0</td>\n",
       "    </tr>\n",
       "    <tr>\n",
       "      <th>50%</th>\n",
       "      <td>1.0</td>\n",
       "      <td>620.000000</td>\n",
       "      <td>3.620000</td>\n",
       "      <td>3.0</td>\n",
       "    </tr>\n",
       "    <tr>\n",
       "      <th>75%</th>\n",
       "      <td>1.0</td>\n",
       "      <td>680.000000</td>\n",
       "      <td>3.862500</td>\n",
       "      <td>3.0</td>\n",
       "    </tr>\n",
       "    <tr>\n",
       "      <th>max</th>\n",
       "      <td>1.0</td>\n",
       "      <td>800.000000</td>\n",
       "      <td>4.000000</td>\n",
       "      <td>3.0</td>\n",
       "    </tr>\n",
       "  </tbody>\n",
       "</table>\n",
       "</div>"
      ],
      "text/plain": [
       "       admit         gre        gpa  prestige\n",
       "count   28.0   28.000000  28.000000      28.0\n",
       "mean     1.0  616.428571   3.534643       3.0\n",
       "std      0.0   99.785484   0.399244       0.0\n",
       "min      1.0  460.000000   2.650000       3.0\n",
       "25%      1.0  535.000000   3.342500       3.0\n",
       "50%      1.0  620.000000   3.620000       3.0\n",
       "75%      1.0  680.000000   3.862500       3.0\n",
       "max      1.0  800.000000   4.000000       3.0"
      ]
     },
<<<<<<< HEAD
     "execution_count": 17,
=======
     "execution_count": 9,
>>>>>>> 347754165f10d4de0b1aacc9db3866474b12d6f6
     "metadata": {},
     "output_type": "execute_result"
    }
   ],
   "source": [
    "con = (df.admit == 1) & (df.prestige == 3)\n",
    "sub1 = df[con]\n",
    "sub1.describe()"
   ]
  },
  {
   "cell_type": "code",
   "execution_count": 18,
   "metadata": {
    "collapsed": false
   },
   "outputs": [
    {
     "data": {
      "text/plain": [
       "0    93\n",
       "1    28\n",
       "Name: admit, dtype: int64"
      ]
     },
     "execution_count": 18,
     "metadata": {},
     "output_type": "execute_result"
    }
   ],
   "source": [
    "df[df.prestige == 3].admit.value_counts()"
   ]
  },
  {
   "cell_type": "markdown",
   "metadata": {},
   "source": [
    "In prestige catagory 4, the average GRE is 603, the average GPA is 3.44, the admission ratio is 12/(55+12)=17.9%. \n",
    "Here we see that in prestige rank 4, the applicant's admission ratio drops to 17.9%, which is far below the ratio in prestige rank 1."
   ]
  },
  {
   "cell_type": "code",
<<<<<<< HEAD
   "execution_count": 19,
=======
   "execution_count": 10,
>>>>>>> 347754165f10d4de0b1aacc9db3866474b12d6f6
   "metadata": {
    "collapsed": false
   },
   "outputs": [
    {
     "data": {
      "text/html": [
       "<div>\n",
       "<table border=\"1\" class=\"dataframe\">\n",
       "  <thead>\n",
       "    <tr style=\"text-align: right;\">\n",
       "      <th></th>\n",
       "      <th>admit</th>\n",
       "      <th>gre</th>\n",
       "      <th>gpa</th>\n",
       "      <th>prestige</th>\n",
       "    </tr>\n",
       "  </thead>\n",
       "  <tbody>\n",
       "    <tr>\n",
       "      <th>count</th>\n",
       "      <td>12.0</td>\n",
       "      <td>12.000000</td>\n",
       "      <td>12.000000</td>\n",
       "      <td>12.0</td>\n",
       "    </tr>\n",
       "    <tr>\n",
       "      <th>mean</th>\n",
       "      <td>1.0</td>\n",
       "      <td>603.333333</td>\n",
       "      <td>3.441667</td>\n",
       "      <td>4.0</td>\n",
       "    </tr>\n",
       "    <tr>\n",
       "      <th>std</th>\n",
       "      <td>0.0</td>\n",
       "      <td>114.680056</td>\n",
       "      <td>0.297286</td>\n",
       "      <td>0.0</td>\n",
       "    </tr>\n",
       "    <tr>\n",
       "      <th>min</th>\n",
       "      <td>1.0</td>\n",
       "      <td>400.000000</td>\n",
       "      <td>2.860000</td>\n",
       "      <td>4.0</td>\n",
       "    </tr>\n",
       "    <tr>\n",
       "      <th>25%</th>\n",
       "      <td>1.0</td>\n",
       "      <td>520.000000</td>\n",
       "      <td>3.220000</td>\n",
       "      <td>4.0</td>\n",
       "    </tr>\n",
       "    <tr>\n",
       "      <th>50%</th>\n",
       "      <td>1.0</td>\n",
       "      <td>610.000000</td>\n",
       "      <td>3.535000</td>\n",
       "      <td>4.0</td>\n",
       "    </tr>\n",
       "    <tr>\n",
       "      <th>75%</th>\n",
       "      <td>1.0</td>\n",
       "      <td>685.000000</td>\n",
       "      <td>3.662500</td>\n",
       "      <td>4.0</td>\n",
       "    </tr>\n",
       "    <tr>\n",
       "      <th>max</th>\n",
       "      <td>1.0</td>\n",
       "      <td>780.000000</td>\n",
       "      <td>3.740000</td>\n",
       "      <td>4.0</td>\n",
       "    </tr>\n",
       "  </tbody>\n",
       "</table>\n",
       "</div>"
      ],
      "text/plain": [
       "       admit         gre        gpa  prestige\n",
       "count   12.0   12.000000  12.000000      12.0\n",
       "mean     1.0  603.333333   3.441667       4.0\n",
       "std      0.0  114.680056   0.297286       0.0\n",
       "min      1.0  400.000000   2.860000       4.0\n",
       "25%      1.0  520.000000   3.220000       4.0\n",
       "50%      1.0  610.000000   3.535000       4.0\n",
       "75%      1.0  685.000000   3.662500       4.0\n",
       "max      1.0  780.000000   3.740000       4.0"
      ]
     },
<<<<<<< HEAD
     "execution_count": 19,
=======
     "execution_count": 10,
>>>>>>> 347754165f10d4de0b1aacc9db3866474b12d6f6
     "metadata": {},
     "output_type": "execute_result"
    }
   ],
   "source": [
    "con = (df.admit == 1) & (df.prestige == 4)\n",
    "sub1 = df[con]\n",
    "sub1.describe()"
   ]
  },
  {
   "cell_type": "code",
<<<<<<< HEAD
   "execution_count": 20,
   "metadata": {
    "collapsed": false,
    "scrolled": true
=======
   "execution_count": 19,
   "metadata": {
    "collapsed": false
>>>>>>> 347754165f10d4de0b1aacc9db3866474b12d6f6
   },
   "outputs": [
    {
     "data": {
      "text/plain": [
       "0    55\n",
       "1    12\n",
       "Name: admit, dtype: int64"
      ]
     },
<<<<<<< HEAD
     "execution_count": 20,
=======
     "execution_count": 19,
>>>>>>> 347754165f10d4de0b1aacc9db3866474b12d6f6
     "metadata": {},
     "output_type": "execute_result"
    }
   ],
   "source": [
    "df[df.prestige == 4].admit.value_counts()"
   ]
  },
  {
<<<<<<< HEAD
   "cell_type": "markdown",
   "metadata": {},
   "source": [
    "In addition, we need to compare GRE scores of applicants from different catagories, by Boxplot"
   ]
  },
  {
   "cell_type": "code",
   "execution_count": 42,
   "metadata": {
    "collapsed": false,
    "scrolled": true
   },
   "outputs": [
    {
     "data": {
      "text/plain": [
       "<matplotlib.text.Text at 0x11315ca90>"
      ]
     },
     "execution_count": 42,
     "metadata": {},
     "output_type": "execute_result"
    },
    {
     "data": {
      "image/png": "iVBORw0KGgoAAAANSUhEUgAAAYMAAAEACAYAAABRQBpkAAAABHNCSVQICAgIfAhkiAAAAAlwSFlz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\nIiJIMYiICOD/A8Bgfo9luOWRAAAAAElFTkSuQmCC\n",
      "text/plain": [
       "<matplotlib.figure.Figure at 0x113e1e3c8>"
      ]
     },
     "metadata": {},
     "output_type": "display_data"
    }
   ],
   "source": [
    "subdf1 = df[df.prestige == 1]\n",
    "subdf2 = df[df.prestige == 2]\n",
    "subdf3 = df[df.prestige == 3]\n",
    "subdf4 = df[df.prestige == 4]\n",
    "subdf1 = np.array(subdf1.gre)\n",
    "subdf2 = np.array(subdf2.gre)\n",
    "subdf3 = np.array(subdf3.gre)\n",
    "subdf4 = np.array(subdf4.gre)\n",
    "plt.boxplot([subdf1,subdf2,subdf3,subdf4])\n",
    "plt.xticks([1,2,3,4],[\"Prestige 1\",\"Prestige 2\",\"Prestige 3\",\"Prestige 4\"])\n",
    "plt.ylabel(\"GRE scores\")"
   ]
  },
  {
   "cell_type": "markdown",
   "metadata": {},
   "source": [
    "Similarly, we can use a boxplot to compare applicants' GPA from different catagories."
   ]
  },
  {
   "cell_type": "code",
   "execution_count": 43,
   "metadata": {
    "collapsed": false,
    "scrolled": false
   },
   "outputs": [
    {
     "data": {
      "text/plain": [
       "<matplotlib.text.Text at 0x113835e10>"
      ]
     },
     "execution_count": 43,
     "metadata": {},
     "output_type": "execute_result"
    },
    {
     "data": {
      "image/png": "iVBORw0KGgoAAAANSUhEUgAAAYAAAAEACAYAAAC6d6FnAAAABHNCSVQICAgIfAhkiAAAAAlwSFlz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\nAElFTkSuQmCC\n",
      "text/plain": [
       "<matplotlib.figure.Figure at 0x1133048d0>"
      ]
     },
     "metadata": {},
     "output_type": "display_data"
    }
   ],
   "source": [
    "subdf1 = df[df.prestige == 1]\n",
    "subdf2 = df[df.prestige == 2]\n",
    "subdf3 = df[df.prestige == 3]\n",
    "subdf4 = df[df.prestige == 4]\n",
    "subdf1 = np.array(subdf1.gpa)\n",
    "subdf2 = np.array(subdf2.gpa)\n",
    "subdf3 = np.array(subdf3.gpa)\n",
    "subdf4 = np.array(subdf4.gpa)\n",
    "plt.boxplot([subdf1,subdf2,subdf3,subdf4])\n",
    "plt.xticks([1,2,3,4],[\"Prestige 1\",\"Prestige 2\",\"Prestige 3\",\"Prestige 4\"])\n",
    "plt.ylabel(\"GPA\")"
   ]
  },
  {
=======
>>>>>>> 347754165f10d4de0b1aacc9db3866474b12d6f6
   "cell_type": "code",
   "execution_count": null,
   "metadata": {
    "collapsed": true
   },
   "outputs": [],
   "source": []
  }
 ],
 "metadata": {
  "kernelspec": {
   "display_name": "Python 3",
   "language": "python",
   "name": "python3"
  },
  "language_info": {
   "codemirror_mode": {
    "name": "ipython",
    "version": 3
   },
   "file_extension": ".py",
   "mimetype": "text/x-python",
   "name": "python",
   "nbconvert_exporter": "python",
   "pygments_lexer": "ipython3",
   "version": "3.5.1"
  }
 },
 "nbformat": 4,
 "nbformat_minor": 0
}
